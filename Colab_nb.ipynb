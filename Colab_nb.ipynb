{
 "cells": [
  {
   "cell_type": "markdown",
   "metadata": {
    "colab_type": "text",
    "id": "view-in-github"
   },
   "source": [
    "<a href=\"https://colab.research.google.com/github/Jacob-Francis/SWSG_repo/blob/main/Colab_nb.ipynb\" target=\"_parent\"><img src=\"https://colab.research.google.com/assets/colab-badge.svg\" alt=\"Open In Colab\"/></a>"
   ]
  },
  {
   "cell_type": "code",
   "execution_count": 1,
   "metadata": {
    "id": "gR60kvcRLafk"
   },
   "outputs": [],
   "source": [
    "import numpy as np\n",
    "import matplotlib.pyplot as plt\n",
    "from scipy.spatial.distance import cdist"
   ]
  },
  {
   "cell_type": "code",
   "execution_count": 3,
   "metadata": {
    "colab": {
     "base_uri": "https://localhost:8080/"
    },
    "id": "O_19YAtkaq9D",
    "outputId": "1019175d-3ecc-46ad-d0fc-b8dde71a52b1"
   },
   "outputs": [],
   "source": [
    "#!apt-get install cuda=10.2.89-1\n",
    "# %matplotlib inline\n",
    "\n",
    "# !pip install pykeops[colab] > install.log\n",
    "# !pip install geomloss[full]\n",
    "# !apt-get install ffmpeg\n",
    "\n",
    "import torch\n",
    "import numpy as np\n",
    "from geomloss import SamplesLoss\n",
    "import matplotlib.pyplot as plt\n",
    "import matplotlib.animation as animation\n",
    "from IPython.display import HTML\n",
    "\n",
    "# Device configuration\n",
    "#pytorch.cuda.alloc.conf = expandable_segments\n",
    "device = torch.device('cuda' if torch.cuda.is_available() else 'cpu')\n",
    "torch.set_default_dtype(torch.float64)\n",
    "# torch.set_default_device(device)"
   ]
  },
  {
   "cell_type": "code",
   "execution_count": 4,
   "metadata": {
    "id": "ybT2lQ5Pamo9"
   },
   "outputs": [],
   "source": [
    "def Lloyds(f, N, k=10, Nsteps=3,scali=0.5, epsilon=0.01):\n",
    "\n",
    "    # Generate initial grid of points for x\n",
    "    grid_size = int(N**0.5)  # Assuming N is a perfect square\n",
    "    x = (torch.rand(N, 2,device=device)).detach().requires_grad_(True) # Random points in [-1, 1]\n",
    "    # Generate fine grid of points y with k*N points\n",
    "    fine_grid_size = int((k * N)**0.5)\n",
    "    y = torch.stack(torch.meshgrid(torch.linspace(0, 1, fine_grid_size,device=device),\n",
    "                                   torch.linspace(0, 1, fine_grid_size,device=device)), dim=-1).reshape(-1, 2)\n",
    "    y = y[:k * N]\n",
    "\n",
    "    # Compute weights b proportional to f(y)\n",
    "    b = f(y)\n",
    "    b /= b.sum()  # Normalize to make b a probability distribution\n",
    "\n",
    "    # Uniform weights for points x\n",
    "    a = torch.full((N,), 1 / N,device=device)\n",
    "\n",
    "    # Define the entropic OT loss function\n",
    "    loss_fn = SamplesLoss(\"sinkhorn\", p=2,scaling=scali, blur=epsilon**0.5)\n",
    "\n",
    "    # Iterative Lloyd's algorithm\n",
    "    for _ in range(Nsteps):\n",
    "        # Compute the transport map between x and (y, b)\n",
    "        loss = loss_fn(a,x,b, y)\n",
    "        grad = torch.autograd.grad(loss, x)[0]\n",
    "        x=x.clone().detach().requires_grad_(True)\n",
    "\n",
    "        # Move points in the direction of the gradient to minimize OT cost\n",
    "        with torch.no_grad():\n",
    "            x -= N * grad  # Adjust x by moving in gradient direction\n",
    "\n",
    "    return x.detach()  # Return points that fit the density function\n",
    "\n",
    "def init_gaussian(N, k=10, epsilon=0.001,Nsteps=3,scali=0.99,std=[0.2,0.2]):\n",
    "    def gaussian_density(points, mean=[0, 0], std=[0.1, 0.1]):\n",
    "        \"\"\"Evaluates a Gaussian function at given points.\"\"\"\n",
    "        dist = torch.distributions.MultivariateNormal(\n",
    "            torch.tensor(mean,device=device),\n",
    "            torch.diag(torch.tensor(std,device=device))**2\n",
    "        )\n",
    "        return torch.exp(dist.log_prob(points))\n",
    "    # Run Lloyd's algorithm\n",
    "    f = lambda y: gaussian_density(y, mean=[0.5, 0.5], std=[0.2, 0.2])  # Gaussian density function\n",
    "    points = Lloyds(f, N, k=k, Nsteps=Nsteps, epsilon=epsilon)\n",
    "    return points\n",
    "\n",
    "\n"
   ]
  },
  {
   "cell_type": "code",
   "execution_count": 5,
   "metadata": {
    "id": "uOXd3pmTLfvL"
   },
   "outputs": [
    {
     "name": "stderr",
     "output_type": "stream",
     "text": [
      "/home/jacob/venv/lib/python3.8/site-packages/torch/functional.py:504: UserWarning: torch.meshgrid: in an upcoming release, it will be required to pass the indexing argument. (Triggered internally at ../aten/src/ATen/native/TensorShape.cpp:3190.)\n",
      "  return _VF.meshgrid(tensors, **kwargs)  # type: ignore[attr-defined]\n"
     ]
    }
   ],
   "source": [
    "# Parameters\n",
    "N = 20\n",
    "N1 = 20  # testing shapes\n",
    "M = 100\n",
    "epsilon = 0.01\n",
    "sigma = 1/0.2\n",
    "\n",
    "# Generate G\n",
    "# G = np.stack([j.flatten() for j in np.meshgrid(\n",
    "#     np.linspace(1/(2*N), 1 - 1/(2*N), N, endpoint=True),\n",
    "#     np.linspace(1/(2*N), 1 - 1/(2*N), N, endpoint=True))], axis=-1)\n",
    "G = init_gaussian(N*N,std=[0.3,0.3])\n",
    "\n",
    "# Generate X in the desired format (N * N, 2)\n",
    "X = np.stack([j.flatten() for j in np.meshgrid(\n",
    "    np.linspace(1/(2*N1), 1 - 1/(2*N1), N, endpoint=True),\n",
    "    np.linspace(1/(2*N1), 1 - 1/(2*N1), N, endpoint=True))], axis=-1)\n",
    "\n",
    "# Generate Y in the desired format (M * M, 2)\n",
    "Y = np.stack([j.flatten() for j in np.meshgrid(\n",
    "    np.linspace(1/(2*M), 1 - 1/(2*M), M, endpoint=True),\n",
    "    np.linspace(1/(2*M), 1 - 1/(2*M), M, endpoint=True))], axis=-1)"
   ]
  },
  {
   "cell_type": "code",
   "execution_count": null,
   "metadata": {
    "id": "0KwQ3VMAbAr8"
   },
   "outputs": [],
   "source": [
    "G.shape\n"
   ]
  },
  {
   "cell_type": "code",
   "execution_count": 6,
   "metadata": {
    "id": "BDkDA9nTMBWb"
   },
   "outputs": [
    {
     "ename": "TypeError",
     "evalue": "can't convert cuda:0 device type tensor to numpy. Use Tensor.cpu() to copy the tensor to host memory first.",
     "output_type": "error",
     "traceback": [
      "\u001b[0;31m---------------------------------------------------------------------------\u001b[0m",
      "\u001b[0;31mTypeError\u001b[0m                                 Traceback (most recent call last)",
      "\u001b[0;32m/tmp/ipykernel_5923/1399689140.py\u001b[0m in \u001b[0;36m<module>\u001b[0;34m\u001b[0m\n\u001b[1;32m      4\u001b[0m \u001b[0;34m\u001b[0m\u001b[0m\n\u001b[1;32m      5\u001b[0m \u001b[0;31m# Compute cost matrices\u001b[0m\u001b[0;34m\u001b[0m\u001b[0;34m\u001b[0m\u001b[0;34m\u001b[0m\u001b[0m\n\u001b[0;32m----> 6\u001b[0;31m \u001b[0mC_gx\u001b[0m \u001b[0;34m=\u001b[0m \u001b[0;36m0.5\u001b[0m \u001b[0;34m*\u001b[0m \u001b[0mcdist\u001b[0m\u001b[0;34m(\u001b[0m\u001b[0mG\u001b[0m\u001b[0;34m,\u001b[0m \u001b[0mX\u001b[0m\u001b[0;34m)\u001b[0m \u001b[0;34m**\u001b[0m \u001b[0;36m2\u001b[0m   \u001b[0;31m# Shape (N * N, N * N)\u001b[0m\u001b[0;34m\u001b[0m\u001b[0;34m\u001b[0m\u001b[0m\n\u001b[0m\u001b[1;32m      7\u001b[0m \u001b[0mC_xy\u001b[0m \u001b[0;34m=\u001b[0m \u001b[0;36m0.5\u001b[0m \u001b[0;34m*\u001b[0m \u001b[0mcdist\u001b[0m\u001b[0;34m(\u001b[0m\u001b[0mX\u001b[0m\u001b[0;34m,\u001b[0m \u001b[0mY\u001b[0m\u001b[0;34m)\u001b[0m \u001b[0;34m**\u001b[0m \u001b[0;36m2\u001b[0m   \u001b[0;31m# Shape (N * N, M * M)\u001b[0m\u001b[0;34m\u001b[0m\u001b[0;34m\u001b[0m\u001b[0m\n\u001b[1;32m      8\u001b[0m \u001b[0;34m\u001b[0m\u001b[0m\n",
      "\u001b[0;32m~/venv/lib/python3.8/site-packages/scipy/spatial/distance.py\u001b[0m in \u001b[0;36mcdist\u001b[0;34m(XA, XB, metric, out, **kwargs)\u001b[0m\n\u001b[1;32m   2907\u001b[0m     \u001b[0;31m# but with a more succinct, verifiable, but less efficient implementation.\u001b[0m\u001b[0;34m\u001b[0m\u001b[0;34m\u001b[0m\u001b[0;34m\u001b[0m\u001b[0m\n\u001b[1;32m   2908\u001b[0m \u001b[0;34m\u001b[0m\u001b[0m\n\u001b[0;32m-> 2909\u001b[0;31m     \u001b[0mXA\u001b[0m \u001b[0;34m=\u001b[0m \u001b[0mnp\u001b[0m\u001b[0;34m.\u001b[0m\u001b[0masarray\u001b[0m\u001b[0;34m(\u001b[0m\u001b[0mXA\u001b[0m\u001b[0;34m)\u001b[0m\u001b[0;34m\u001b[0m\u001b[0;34m\u001b[0m\u001b[0m\n\u001b[0m\u001b[1;32m   2910\u001b[0m     \u001b[0mXB\u001b[0m \u001b[0;34m=\u001b[0m \u001b[0mnp\u001b[0m\u001b[0;34m.\u001b[0m\u001b[0masarray\u001b[0m\u001b[0;34m(\u001b[0m\u001b[0mXB\u001b[0m\u001b[0;34m)\u001b[0m\u001b[0;34m\u001b[0m\u001b[0;34m\u001b[0m\u001b[0m\n\u001b[1;32m   2911\u001b[0m \u001b[0;34m\u001b[0m\u001b[0m\n",
      "\u001b[0;32m~/venv/lib/python3.8/site-packages/torch/_tensor.py\u001b[0m in \u001b[0;36m__array__\u001b[0;34m(self, dtype)\u001b[0m\n\u001b[1;32m    954\u001b[0m             \u001b[0;32mreturn\u001b[0m \u001b[0mhandle_torch_function\u001b[0m\u001b[0;34m(\u001b[0m\u001b[0mTensor\u001b[0m\u001b[0;34m.\u001b[0m\u001b[0m__array__\u001b[0m\u001b[0;34m,\u001b[0m \u001b[0;34m(\u001b[0m\u001b[0mself\u001b[0m\u001b[0;34m,\u001b[0m\u001b[0;34m)\u001b[0m\u001b[0;34m,\u001b[0m \u001b[0mself\u001b[0m\u001b[0;34m,\u001b[0m \u001b[0mdtype\u001b[0m\u001b[0;34m=\u001b[0m\u001b[0mdtype\u001b[0m\u001b[0;34m)\u001b[0m\u001b[0;34m\u001b[0m\u001b[0;34m\u001b[0m\u001b[0m\n\u001b[1;32m    955\u001b[0m         \u001b[0;32mif\u001b[0m \u001b[0mdtype\u001b[0m \u001b[0;32mis\u001b[0m \u001b[0;32mNone\u001b[0m\u001b[0;34m:\u001b[0m\u001b[0;34m\u001b[0m\u001b[0;34m\u001b[0m\u001b[0m\n\u001b[0;32m--> 956\u001b[0;31m             \u001b[0;32mreturn\u001b[0m \u001b[0mself\u001b[0m\u001b[0;34m.\u001b[0m\u001b[0mnumpy\u001b[0m\u001b[0;34m(\u001b[0m\u001b[0;34m)\u001b[0m\u001b[0;34m\u001b[0m\u001b[0;34m\u001b[0m\u001b[0m\n\u001b[0m\u001b[1;32m    957\u001b[0m         \u001b[0;32melse\u001b[0m\u001b[0;34m:\u001b[0m\u001b[0;34m\u001b[0m\u001b[0;34m\u001b[0m\u001b[0m\n\u001b[1;32m    958\u001b[0m             \u001b[0;32mreturn\u001b[0m \u001b[0mself\u001b[0m\u001b[0;34m.\u001b[0m\u001b[0mnumpy\u001b[0m\u001b[0;34m(\u001b[0m\u001b[0;34m)\u001b[0m\u001b[0;34m.\u001b[0m\u001b[0mastype\u001b[0m\u001b[0;34m(\u001b[0m\u001b[0mdtype\u001b[0m\u001b[0;34m,\u001b[0m \u001b[0mcopy\u001b[0m\u001b[0;34m=\u001b[0m\u001b[0;32mFalse\u001b[0m\u001b[0;34m)\u001b[0m\u001b[0;34m\u001b[0m\u001b[0;34m\u001b[0m\u001b[0m\n",
      "\u001b[0;31mTypeError\u001b[0m: can't convert cuda:0 device type tensor to numpy. Use Tensor.cpu() to copy the tensor to host memory first."
     ]
    }
   ],
   "source": [
    "f1 = np.zeros(N*N)\n",
    "f2 = np.zeros(N1*N1)\n",
    "f3 = np.zeros(M*M)\n",
    "\n",
    "# Compute cost matrices\n",
    "C_gx = 0.5 * cdist(G, X) ** 2   # Shape (N * N, N * N)\n",
    "C_xy = 0.5 * cdist(X, Y) ** 2   # Shape (N * N, M * M)\n",
    "\n",
    "# Expand dimensions to allow broadcasting\n",
    "C_gx_expanded = C_gx[:, :, np.newaxis]  # Shape (N * N, N * N, 1)\n",
    "C_xy_expanded = C_xy[np.newaxis, :, :]  # Shape (1, N * N, M * M)\n",
    "\n",
    "# Stack to form final cost matrix\n",
    "C = C_gx_expanded + 1/sigma * C_xy_expanded"
   ]
  },
  {
   "cell_type": "markdown",
   "metadata": {
    "id": "4kjhOcOITG0P"
   },
   "source": [
    "R here is the reference measuer, though everything so far is just uniformly weighted by the number of points"
   ]
  },
  {
   "cell_type": "code",
   "execution_count": null,
   "metadata": {
    "id": "bjKmfv0QNIyd"
   },
   "outputs": [],
   "source": [
    "R = 1 / (N**2 * N1**2 * M**2)\n",
    "f1 = - epsilon * np.log(np.einsum('ijk->i',np.exp((f2[np.newaxis, :, np.newaxis] + f3[np.newaxis, np.newaxis, :] - C) / epsilon)*R))\n",
    "f2 = - epsilon * np.log(np.einsum('ijk->j',np.exp((f1[:, np.newaxis, np.newaxis] + f3[np.newaxis, np.newaxis, :] - C) / epsilon)*R))\n",
    "f3 = - epsilon * np.log(np.einsum('ijk->k',np.exp((f2[np.newaxis, :, np.newaxis] + f1[:, np.newaxis, np.newaxis] - C) / epsilon)*R))\n",
    "\n",
    "# There is a more efficient implementation\n",
    "top = np.einsum('ijk,ikl->jl', np.exp((f1[:, np.newaxis, np.newaxis] + f2[np.newaxis, :, np.newaxis] + f3[np.newaxis, np.newaxis, :] - C) / epsilon)*R, G[:,  np.newaxis, :] + Y[np.newaxis,  :, :]/sigma)\n",
    "bottom = (1+1/sigma)* np.einsum('ijk->j', np.exp((f1[:, np.newaxis, np.newaxis] + f2[np.newaxis, :, np.newaxis] + f3[np.newaxis, np.newaxis, :] - C) / epsilon)*R)\n",
    "X = top / bottom.reshape(-1, 1)"
   ]
  },
  {
   "cell_type": "markdown",
   "metadata": {
    "id": "MWFS8bziRRh0"
   },
   "source": []
  },
  {
   "cell_type": "code",
   "execution_count": null,
   "metadata": {
    "id": "tNkbW7E6bYPq"
   },
   "outputs": [],
   "source": [
    "plt.figure(figsize=(8, 6))\n",
    "plt.scatter(G[:, 0].cpu(), G[:, 1].cpu(), color='blue', label='G_i', alpha=0.7)\n",
    "plt.scatter(Y[:, 0], Y[:, 1], color='green', s=10, label='Y_j', alpha=0.5)\n",
    "plt.scatter(X[:, 0], X[:, 1], color='red', marker='x', s=80)\n",
    "plt.legend()\n",
    "plt.xlabel('X-axis')\n",
    "plt.ylabel('Y-axis')\n",
    "plt.show()"
   ]
  }
 ],
 "metadata": {
  "colab": {
   "include_colab_link": true,
   "provenance": []
  },
  "kernelspec": {
   "display_name": "venv",
   "language": "python",
   "name": "python3"
  },
  "language_info": {
   "codemirror_mode": {
    "name": "ipython",
    "version": 3
   },
   "file_extension": ".py",
   "mimetype": "text/x-python",
   "name": "python",
   "nbconvert_exporter": "python",
   "pygments_lexer": "ipython3",
   "version": "3.8.10"
  }
 },
 "nbformat": 4,
 "nbformat_minor": 0
}
