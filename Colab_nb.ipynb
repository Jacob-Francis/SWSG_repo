{
  "nbformat": 4,
  "nbformat_minor": 0,
  "metadata": {
    "colab": {
      "provenance": [],
      "include_colab_link": true
    },
    "kernelspec": {
      "name": "python3",
      "display_name": "Python 3"
    },
    "language_info": {
      "name": "python"
    }
  },
  "cells": [
    {
      "cell_type": "markdown",
      "metadata": {
        "id": "view-in-github",
        "colab_type": "text"
      },
      "source": [
        "<a href=\"https://colab.research.google.com/github/Jacob-Francis/SWSG_repo/blob/main/Colab_nb.ipynb\" target=\"_parent\"><img src=\"https://colab.research.google.com/assets/colab-badge.svg\" alt=\"Open In Colab\"/></a>"
      ]
    },
    {
      "cell_type": "code",
      "source": [
        "import numpy as np\n",
        "import matplotlib.pyplot as plt\n",
        "from scipy.spatial.distance import cdist"
      ],
      "metadata": {
        "id": "gR60kvcRLafk"
      },
      "execution_count": 13,
      "outputs": []
    },
    {
      "cell_type": "code",
      "source": [
        "# Parameters\n",
        "N = 20\n",
        "M = 25\n",
        "epsilon = 0.01\n",
        "\n",
        "# Generate G\n",
        "G = np.stack([j.flatten() for j in np.meshgrid(\n",
        "    np.linspace(1/(2*N), 1 - 1/(2*N), N, endpoint=True),\n",
        "    np.linspace(1/(2*N), 1 - 1/(2*N), N, endpoint=True))], axis=-1)\n",
        "\n",
        "# Generate X in the desired format (N * N, 2)\n",
        "X = np.stack([j.flatten() for j in np.meshgrid(\n",
        "    np.linspace(1/(2*N), 1 - 1/(2*N), N, endpoint=True),\n",
        "    np.linspace(1/(2*N), 1 - 1/(2*N), N, endpoint=True))], axis=-1)\n",
        "\n",
        "# Generate Y in the desired format (M * M, 2)\n",
        "Y = np.stack([j.flatten() for j in np.meshgrid(\n",
        "    np.linspace(1/(2*M), 1 - 1/(2*M), M, endpoint=True),\n",
        "    np.linspace(1/(2*M), 1 - 1/(2*M), M, endpoint=True))], axis=-1)"
      ],
      "metadata": {
        "id": "uOXd3pmTLfvL"
      },
      "execution_count": 15,
      "outputs": []
    },
    {
      "cell_type": "code",
      "source": [
        "G.shape"
      ],
      "metadata": {
        "id": "IlzeFMl5MTv9",
        "outputId": "61859435-a51c-4b69-bc6d-d18a6fc1cae6",
        "colab": {
          "base_uri": "https://localhost:8080/"
        }
      },
      "execution_count": 11,
      "outputs": [
        {
          "output_type": "execute_result",
          "data": {
            "text/plain": [
              "(400, 2)"
            ]
          },
          "metadata": {},
          "execution_count": 11
        }
      ]
    },
    {
      "cell_type": "code",
      "source": [
        "f1 = np.zeros(N)\n",
        "f2 = np.zeros(N)\n",
        "f3 = np.zeros(N)\n",
        "\n",
        "# Compute cost matrices\n",
        "C_gx = 0.5 * cdist(G, X) ** 2   # Shape (N * N, N * N)\n",
        "C_xy = 0.5 * cdist(X, Y) ** 2   # Shape (N * N, M * M)\n",
        "\n",
        "# Expand dimensions to allow broadcasting\n",
        "C_gx_expanded = C_gx[:, :, np.newaxis]  # Shape (N * N, N * N, 1)\n",
        "C_xy_expanded = C_xy[np.newaxis, :, :]  # Shape (1, N * N, M * M)\n",
        "\n",
        "# Stack to form final cost matrix\n",
        "C = C_gx_expanded + C_xy_expanded"
      ],
      "metadata": {
        "id": "BDkDA9nTMBWb"
      },
      "execution_count": 22,
      "outputs": []
    },
    {
      "cell_type": "code",
      "source": [
        "f1 = - epsilon * np.log(np.sum(np.exp( (f2.reshape(-1, 1)) / epsilon)))"
      ],
      "metadata": {
        "id": "bjKmfv0QNIyd"
      },
      "execution_count": null,
      "outputs": []
    }
  ]
}