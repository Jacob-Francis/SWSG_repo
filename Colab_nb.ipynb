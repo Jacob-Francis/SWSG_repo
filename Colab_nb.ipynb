{
  "nbformat": 4,
  "nbformat_minor": 0,
  "metadata": {
    "colab": {
      "provenance": [],
      "include_colab_link": true
    },
    "kernelspec": {
      "name": "python3",
      "display_name": "Python 3"
    },
    "language_info": {
      "name": "python"
    }
  },
  "cells": [
    {
      "cell_type": "markdown",
      "metadata": {
        "id": "view-in-github",
        "colab_type": "text"
      },
      "source": [
        "<a href=\"https://colab.research.google.com/github/Jacob-Francis/SWSG_repo/blob/main/Colab_nb.ipynb\" target=\"_parent\"><img src=\"https://colab.research.google.com/assets/colab-badge.svg\" alt=\"Open In Colab\"/></a>"
      ]
    },
    {
      "cell_type": "code",
      "source": [
        "import numpy as np\n",
        "import matplotlib.pyplot as plt\n",
        "from scipy.spatial.distance import cdist"
      ],
      "metadata": {
        "id": "gR60kvcRLafk"
      },
      "execution_count": 2,
      "outputs": []
    },
    {
      "cell_type": "code",
      "source": [
        "#!apt-get install cuda=10.2.89-1\n",
        "%matplotlib inline\n",
        "\n",
        "!pip install pykeops[colab] > install.log\n",
        "!pip install geomloss[full]\n",
        "!apt-get install ffmpeg\n",
        "\n",
        "import torch\n",
        "import numpy as np\n",
        "from geomloss import SamplesLoss\n",
        "import matplotlib.pyplot as plt\n",
        "import matplotlib.animation as animation\n",
        "from IPython.display import HTML\n",
        "\n",
        "# Device configuration\n",
        "#pytorch.cuda.alloc.conf = expandable_segments\n",
        "device = torch.device('cuda' if torch.cuda.is_available() else 'cpu')\n",
        "torch.set_default_dtype(torch.float64)\n",
        "torch.set_default_device(device)"
      ],
      "metadata": {
        "colab": {
          "base_uri": "https://localhost:8080/"
        },
        "id": "O_19YAtkaq9D",
        "outputId": "6fe00314-68d3-4f01-fb22-0d76c4034ba4"
      },
      "execution_count": 3,
      "outputs": [
        {
          "output_type": "stream",
          "name": "stdout",
          "text": [
            "\u001b[33mWARNING: pykeops 2.2.3 does not provide the extra 'colab'\u001b[0m\u001b[33m\n",
            "\u001b[0mRequirement already satisfied: geomloss[full] in /usr/local/lib/python3.10/dist-packages (0.2.6)\n",
            "Requirement already satisfied: numpy in /usr/local/lib/python3.10/dist-packages (from geomloss[full]) (1.26.4)\n",
            "Requirement already satisfied: torch in /usr/local/lib/python3.10/dist-packages (from geomloss[full]) (2.5.0+cu121)\n",
            "Requirement already satisfied: pykeops in /usr/local/lib/python3.10/dist-packages (from geomloss[full]) (2.2.3)\n",
            "Requirement already satisfied: pybind11 in /usr/local/lib/python3.10/dist-packages (from pykeops->geomloss[full]) (2.13.6)\n",
            "Requirement already satisfied: keopscore==2.2.3 in /usr/local/lib/python3.10/dist-packages (from pykeops->geomloss[full]) (2.2.3)\n",
            "Requirement already satisfied: filelock in /usr/local/lib/python3.10/dist-packages (from torch->geomloss[full]) (3.16.1)\n",
            "Requirement already satisfied: typing-extensions>=4.8.0 in /usr/local/lib/python3.10/dist-packages (from torch->geomloss[full]) (4.12.2)\n",
            "Requirement already satisfied: networkx in /usr/local/lib/python3.10/dist-packages (from torch->geomloss[full]) (3.4.2)\n",
            "Requirement already satisfied: jinja2 in /usr/local/lib/python3.10/dist-packages (from torch->geomloss[full]) (3.1.4)\n",
            "Requirement already satisfied: fsspec in /usr/local/lib/python3.10/dist-packages (from torch->geomloss[full]) (2024.10.0)\n",
            "Requirement already satisfied: sympy==1.13.1 in /usr/local/lib/python3.10/dist-packages (from torch->geomloss[full]) (1.13.1)\n",
            "Requirement already satisfied: mpmath<1.4,>=1.1.0 in /usr/local/lib/python3.10/dist-packages (from sympy==1.13.1->torch->geomloss[full]) (1.3.0)\n",
            "Requirement already satisfied: MarkupSafe>=2.0 in /usr/local/lib/python3.10/dist-packages (from jinja2->torch->geomloss[full]) (3.0.2)\n",
            "Reading package lists... Done\n",
            "Building dependency tree... Done\n",
            "Reading state information... Done\n",
            "ffmpeg is already the newest version (7:4.4.2-0ubuntu0.22.04.1).\n",
            "0 upgraded, 0 newly installed, 0 to remove and 49 not upgraded.\n",
            "[KeOps] Warning : Cuda libraries were not detected on the system or could not be loaded ; using cpu only mode\n"
          ]
        }
      ]
    },
    {
      "cell_type": "code",
      "source": [
        "def Lloyds(f, N, k=10, Nsteps=3,scali=0.5, epsilon=0.001):\n",
        "\n",
        "    # Generate initial grid of points for x\n",
        "    grid_size = int(N**0.5)  # Assuming N is a perfect square\n",
        "    x = (torch.rand(N, 2,device=device)).detach().requires_grad_(True) # Random points in [-1, 1]\n",
        "    # Generate fine grid of points y with k*N points\n",
        "    fine_grid_size = int((k * N)**0.5)\n",
        "    y = torch.stack(torch.meshgrid(torch.linspace(0, 1, fine_grid_size,device=device),\n",
        "                                   torch.linspace(0, 1, fine_grid_size,device=device)), dim=-1).reshape(-1, 2)\n",
        "    y = y[:k * N]\n",
        "\n",
        "    # Compute weights b proportional to f(y)\n",
        "    b = f(y)\n",
        "    b /= b.sum()  # Normalize to make b a probability distribution\n",
        "\n",
        "    # Uniform weights for points x\n",
        "    a = torch.full((N,), 1 / N,device=device)\n",
        "\n",
        "    # Define the entropic OT loss function\n",
        "    loss_fn = SamplesLoss(\"sinkhorn\", p=2,scaling=scali, blur=epsilon**0.5)\n",
        "\n",
        "    # Iterative Lloyd's algorithm\n",
        "    for _ in range(Nsteps):\n",
        "        # Compute the transport map between x and (y, b)\n",
        "        loss = loss_fn(a,x,b, y)\n",
        "        grad = torch.autograd.grad(loss, x)[0]\n",
        "        x=x.clone().detach().requires_grad_(True)\n",
        "\n",
        "        # Move points in the direction of the gradient to minimize OT cost\n",
        "        with torch.no_grad():\n",
        "            x -= N * grad  # Adjust x by moving in gradient direction\n",
        "\n",
        "    return x.detach()  # Return points that fit the density function\n",
        "\n",
        "def init_gaussian(N, k=10, epsilon=0.001,Nsteps=3,scali=0.99,std=[0.2,0.2]):\n",
        "    def gaussian_density(points, mean=[0, 0], std=[0.1, 0.1]):\n",
        "        \"\"\"Evaluates a Gaussian function at given points.\"\"\"\n",
        "        dist = torch.distributions.MultivariateNormal(\n",
        "            torch.tensor(mean,device=device),\n",
        "            torch.diag(torch.tensor(std,device=device))**2\n",
        "        )\n",
        "        return torch.exp(dist.log_prob(points))\n",
        "    # Run Lloyd's algorithm\n",
        "    f = lambda y: gaussian_density(y, mean=[0.5, 0.5], std=[0.2, 0.2])  # Gaussian density function\n",
        "    points = Lloyds(f, N, k=k, Nsteps=Nsteps, epsilon=epsilon)\n",
        "    return points\n",
        "\n",
        "\n",
        "N = 50\n",
        "M = 10*N ; N,M = int(N**0.5)**2,int(M**0.5)**2\n",
        "debiase,scali,epsilon =False,0.99,0.001\n",
        "\n",
        "#initialisations\n",
        "grid_size = int(M ** 0.5)\n",
        "grid = torch.linspace(-.5,.5, grid_size)\n",
        "y1, y2 = torch.meshgrid(grid, grid, indexing='ij')\n",
        "Y = torch.stack([y1.flatten(), y2.flatten()], dim=1)[:M]\n",
        "\n",
        "G=init_gaussian(N,std=[0.3,0.3])\n"
      ],
      "metadata": {
        "colab": {
          "base_uri": "https://localhost:8080/"
        },
        "id": "ybT2lQ5Pamo9",
        "outputId": "f1a1e456-86a6-463a-9034-535646a873c1"
      },
      "execution_count": 4,
      "outputs": [
        {
          "output_type": "stream",
          "name": "stderr",
          "text": [
            "/usr/local/lib/python3.10/dist-packages/torch/functional.py:534: UserWarning: torch.meshgrid: in an upcoming release, it will be required to pass the indexing argument. (Triggered internally at ../aten/src/ATen/native/TensorShape.cpp:3595.)\n",
            "  return _VF.meshgrid(tensors, **kwargs)  # type: ignore[attr-defined]\n"
          ]
        }
      ]
    },
    {
      "cell_type": "code",
      "source": [
        "# Parameters\n",
        "N = 100\n",
        "N1 = 100  # testing shapes\n",
        "M = 200\n",
        "epsilon = 0.01\n",
        "sigma = 1/0.2\n",
        "\n",
        "# Generate G\n",
        "# G = np.stack([j.flatten() for j in np.meshgrid(\n",
        "#     np.linspace(1/(2*N), 1 - 1/(2*N), N, endpoint=True),\n",
        "#     np.linspace(1/(2*N), 1 - 1/(2*N), N, endpoint=True))], axis=-1)\n",
        "G = init_gaussian(N*N,std=[0.3,0.3])\n",
        "\n",
        "# Generate X in the desired format (N * N, 2)\n",
        "X = np.stack([j.flatten() for j in np.meshgrid(\n",
        "    np.linspace(1/(2*N1), 1 - 1/(2*N1), N, endpoint=True),\n",
        "    np.linspace(1/(2*N1), 1 - 1/(2*N1), N, endpoint=True))], axis=-1)\n",
        "\n",
        "# Generate Y in the desired format (M * M, 2)\n",
        "Y = np.stack([j.flatten() for j in np.meshgrid(\n",
        "    np.linspace(1/(2*M), 1 - 1/(2*M), M, endpoint=True),\n",
        "    np.linspace(1/(2*M), 1 - 1/(2*M), M, endpoint=True))], axis=-1)"
      ],
      "metadata": {
        "id": "uOXd3pmTLfvL"
      },
      "execution_count": null,
      "outputs": []
    },
    {
      "cell_type": "code",
      "source": [
        "G.shape\n"
      ],
      "metadata": {
        "id": "0KwQ3VMAbAr8"
      },
      "execution_count": null,
      "outputs": []
    },
    {
      "cell_type": "code",
      "source": [
        "f1 = np.zeros(N*N)\n",
        "f2 = np.zeros(N1*N1)\n",
        "f3 = np.zeros(M*M)\n",
        "\n",
        "# Compute cost matrices\n",
        "C_gx = 0.5 * cdist(G, X) ** 2   # Shape (N * N, N * N)\n",
        "C_xy = 0.5 * cdist(X, Y) ** 2   # Shape (N * N, M * M)\n",
        "\n",
        "# Expand dimensions to allow broadcasting\n",
        "C_gx_expanded = C_gx[:, :, np.newaxis]  # Shape (N * N, N * N, 1)\n",
        "C_xy_expanded = C_xy[np.newaxis, :, :]  # Shape (1, N * N, M * M)\n",
        "\n",
        "# Stack to form final cost matrix\n",
        "C = C_gx_expanded + 1/sigma * C_xy_expanded"
      ],
      "metadata": {
        "id": "BDkDA9nTMBWb"
      },
      "execution_count": null,
      "outputs": []
    },
    {
      "cell_type": "markdown",
      "source": [
        "R here is the reference measuer, though everything so far is just uniformly weighted by the number of points"
      ],
      "metadata": {
        "id": "4kjhOcOITG0P"
      }
    },
    {
      "cell_type": "code",
      "source": [
        "R = 1 / (N**2 * N1**2 * M**2)\n",
        "f1 = - epsilon * np.log(np.einsum('ijk->i',np.exp((f2[np.newaxis, :, np.newaxis] + f3[np.newaxis, np.newaxis, :] - C) / epsilon)*R))\n",
        "f2 = - epsilon * np.log(np.einsum('ijk->j',np.exp((f1[:, np.newaxis, np.newaxis] + f3[np.newaxis, np.newaxis, :] - C) / epsilon)*R))\n",
        "f3 = - epsilon * np.log(np.einsum('ijk->k',np.exp((f2[np.newaxis, :, np.newaxis] + f1[:, np.newaxis, np.newaxis] - C) / epsilon)*R))\n",
        "\n",
        "# There is a more efficient implementation\n",
        "top = np.einsum('ijk,ikl->jl', np.exp((f1[:, np.newaxis, np.newaxis] + f2[np.newaxis, :, np.newaxis] + f3[np.newaxis, np.newaxis, :] - C) / epsilon)*R, G[:,  np.newaxis, :] + Y[np.newaxis,  :, :]/sigma)\n",
        "bottom = (1+1/sigma)* np.einsum('ijk->j', np.exp((f1[:, np.newaxis, np.newaxis] + f2[np.newaxis, :, np.newaxis] + f3[np.newaxis, np.newaxis, :] - C) / epsilon)*R)\n",
        "X = top / bottom.reshape(-1, 1)"
      ],
      "metadata": {
        "id": "bjKmfv0QNIyd"
      },
      "execution_count": null,
      "outputs": []
    },
    {
      "cell_type": "markdown",
      "source": [],
      "metadata": {
        "id": "MWFS8bziRRh0"
      }
    },
    {
      "cell_type": "code",
      "source": [
        "plt.figure(figsize=(8, 6))\n",
        "plt.scatter(G[:, 0].cpu(), G[:, 1].cpu(), color='blue', label='G_i', alpha=0.7)\n",
        "plt.scatter(Y[:, 0], Y[:, 1], color='green', s=10, label='Y_j', alpha=0.5)\n",
        "plt.scatter(X[:, 0], X[:, 1], color='red', marker='x', s=80)\n",
        "plt.legend()\n",
        "plt.xlabel('X-axis')\n",
        "plt.ylabel('Y-axis')\n",
        "plt.show()"
      ],
      "metadata": {
        "id": "tNkbW7E6bYPq"
      },
      "execution_count": null,
      "outputs": []
    }
  ]
}