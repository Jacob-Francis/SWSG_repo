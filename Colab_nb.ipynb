{
  "nbformat": 4,
  "nbformat_minor": 0,
  "metadata": {
    "colab": {
      "provenance": [],
      "include_colab_link": true
    },
    "kernelspec": {
      "name": "python3",
      "display_name": "Python 3"
    },
    "language_info": {
      "name": "python"
    }
  },
  "cells": [
    {
      "cell_type": "markdown",
      "metadata": {
        "id": "view-in-github",
        "colab_type": "text"
      },
      "source": [
        "<a href=\"https://colab.research.google.com/github/Jacob-Francis/SWSG_repo/blob/main/Colab_nb.ipynb\" target=\"_parent\"><img src=\"https://colab.research.google.com/assets/colab-badge.svg\" alt=\"Open In Colab\"/></a>"
      ]
    },
    {
      "cell_type": "code",
      "source": [
        "import numpy as np\n",
        "import matplotlib.pyplot as plt\n",
        "from scipy.spatial.distance import cdist"
      ],
      "metadata": {
        "id": "gR60kvcRLafk"
      },
      "execution_count": 1,
      "outputs": []
    },
    {
      "cell_type": "code",
      "source": [
        "# Parameters\n",
        "N = 20\n",
        "N1 = 22  # testing shapes\n",
        "M = 25\n",
        "epsilon = 0.01\n",
        "\n",
        "# Generate G\n",
        "G = np.stack([j.flatten() for j in np.meshgrid(\n",
        "    np.linspace(1/(2*N), 1 - 1/(2*N), N, endpoint=True),\n",
        "    np.linspace(1/(2*N), 1 - 1/(2*N), N, endpoint=True))], axis=-1)\n",
        "\n",
        "# Generate X in the desired format (N * N, 2)\n",
        "X = np.stack([j.flatten() for j in np.meshgrid(\n",
        "    np.linspace(1/(2*N1), 1 - 1/(2*N1), N, endpoint=True),\n",
        "    np.linspace(1/(2*N1), 1 - 1/(2*N1), N, endpoint=True))], axis=-1)\n",
        "\n",
        "# Generate Y in the desired format (M * M, 2)\n",
        "Y = np.stack([j.flatten() for j in np.meshgrid(\n",
        "    np.linspace(1/(2*M), 1 - 1/(2*M), M, endpoint=True),\n",
        "    np.linspace(1/(2*M), 1 - 1/(2*M), M, endpoint=True))], axis=-1)"
      ],
      "metadata": {
        "id": "uOXd3pmTLfvL"
      },
      "execution_count": 21,
      "outputs": []
    },
    {
      "cell_type": "code",
      "source": [
        "G.shape"
      ],
      "metadata": {
        "id": "IlzeFMl5MTv9",
        "outputId": "03557c1d-8c93-4e38-a12c-8aede6958ab4",
        "colab": {
          "base_uri": "https://localhost:8080/"
        }
      },
      "execution_count": 3,
      "outputs": [
        {
          "output_type": "execute_result",
          "data": {
            "text/plain": [
              "(400, 2)"
            ]
          },
          "metadata": {},
          "execution_count": 3
        }
      ]
    },
    {
      "cell_type": "code",
      "source": [
        "f1 = np.zeros(N*N)\n",
        "f2 = np.zeros(N1*N1)\n",
        "f3 = np.zeros(M*M)\n",
        "\n",
        "# Compute cost matrices\n",
        "C_gx = 0.5 * cdist(G, X) ** 2   # Shape (N * N, N * N)\n",
        "C_xy = 0.5 * cdist(X, Y) ** 2   # Shape (N * N, M * M)\n",
        "\n",
        "# Expand dimensions to allow broadcasting\n",
        "C_gx_expanded = C_gx[:, :, np.newaxis]  # Shape (N * N, N * N, 1)\n",
        "C_xy_expanded = C_xy[np.newaxis, :, :]  # Shape (1, N * N, M * M)\n",
        "\n",
        "# Stack to form final cost matrix\n",
        "C = C_gx_expanded + C_xy_expanded"
      ],
      "metadata": {
        "id": "BDkDA9nTMBWb"
      },
      "execution_count": 7,
      "outputs": []
    },
    {
      "cell_type": "markdown",
      "source": [
        "R here is the reference measuer, though everything so far is just uniformly weighted by the number of points"
      ],
      "metadata": {
        "id": "4kjhOcOITG0P"
      }
    },
    {
      "cell_type": "code",
      "source": [
        "(G[:,  np.newaxis, :] + Y[np.newaxis,  :, :]).shape"
      ],
      "metadata": {
        "id": "NhMAlZSlUqhR",
        "outputId": "5d645329-cd27-4e9c-c9ad-e487055ea22f",
        "colab": {
          "base_uri": "https://localhost:8080/"
        }
      },
      "execution_count": 24,
      "outputs": [
        {
          "output_type": "execute_result",
          "data": {
            "text/plain": [
              "(400, 625, 2)"
            ]
          },
          "metadata": {},
          "execution_count": 24
        }
      ]
    },
    {
      "cell_type": "code",
      "source": [
        "R = 1 / (N**2 * N1**2 * M**2)\n",
        "f1 = - epsilon * np.log(np.einsum('ijk->i',np.exp((f2[np.newaxis, :, np.newaxis] + f3[np.newaxis, np.newaxis, :] - C) / epsilon)*R))\n",
        "f2 = - epsilon * np.log(np.einsum('ijk->j',np.exp((f1[:, np.newaxis, np.newaxis] + f3[np.newaxis, np.newaxis, :] - C) / epsilon)*R))\n",
        "f3 = - epsilon * np.log(np.einsum('ijk->k',np.exp((f2[np.newaxis, :, np.newaxis] + f1[:, np.newaxis, np.newaxis] - C) / epsilon)*R))\n",
        "\n",
        "# There is a more efficient implementation\n",
        "X = np.einsum('ijk,ikl->jl', np.exp((f1[:, np.newaxis, np.newaxis] + f2[np.newaxis, :, np.newaxis] + f3[np.newaxis, np.newaxis, :] - C) / epsilon)*R, -G[:,  np.newaxis, :] - Y[np.newaxis,  :, :])"
      ],
      "metadata": {
        "id": "bjKmfv0QNIyd"
      },
      "execution_count": 26,
      "outputs": []
    },
    {
      "cell_type": "markdown",
      "source": [],
      "metadata": {
        "id": "MWFS8bziRRh0"
      }
    }
  ]
}