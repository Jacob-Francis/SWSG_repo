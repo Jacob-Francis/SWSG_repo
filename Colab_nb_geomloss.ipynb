{
 "cells": [
  {
   "cell_type": "markdown",
   "metadata": {
    "colab_type": "text",
    "id": "view-in-github"
   },
   "source": [
    "<a href=\"https://colab.research.google.com/github/Jacob-Francis/SWSG_repo/blob/main/Colab_nb.ipynb\" target=\"_parent\"><img src=\"https://colab.research.google.com/assets/colab-badge.svg\" alt=\"Open In Colab\"/></a>"
   ]
  },
  {
   "cell_type": "code",
   "execution_count": 142,
   "metadata": {
    "id": "gR60kvcRLafk"
   },
   "outputs": [],
   "source": [
    "import numpy as np\n",
    "import matplotlib.pyplot as plt\n",
    "from scipy.spatial.distance import cdist"
   ]
  },
  {
   "cell_type": "code",
   "execution_count": 143,
   "metadata": {
    "colab": {
     "base_uri": "https://localhost:8080/"
    },
    "id": "O_19YAtkaq9D",
    "outputId": "1019175d-3ecc-46ad-d0fc-b8dde71a52b1"
   },
   "outputs": [],
   "source": [
    "#!apt-get install cuda=10.2.89-1\n",
    "# %matplotlib inline\n",
    "\n",
    "# !pip install pykeops[colab] > install.log\n",
    "# !pip install geomloss[full]\n",
    "# !apt-get install ffmpeg\n",
    "\n",
    "import torch\n",
    "import numpy as np\n",
    "from geomloss import SamplesLoss\n",
    "import matplotlib.pyplot as plt\n",
    "import matplotlib.animation as animation\n",
    "from IPython.display import HTML\n",
    "\n",
    "# Device configuration\n",
    "#pytorch.cuda.alloc.conf = expandable_segments\n",
    "device = torch.device('cuda' if torch.cuda.is_available() else 'cpu')\n",
    "torch.set_default_dtype(torch.float64)\n",
    "# torch.set_default_device(device)"
   ]
  },
  {
   "cell_type": "code",
   "execution_count": 144,
   "metadata": {
    "id": "ybT2lQ5Pamo9"
   },
   "outputs": [],
   "source": [
    "def Lloyds(f, N, k=10, Nsteps=3,scali=0.5, epsilon=0.01):\n",
    "\n",
    "    # Generate initial grid of points for x\n",
    "    grid_size = int(N**0.5)  # Assuming N is a perfect square\n",
    "    x = (torch.rand(N, 2,device=device)).detach().requires_grad_(True) # Random points in [-1, 1]\n",
    "    # Generate fine grid of points y with k*N points\n",
    "    fine_grid_size = int((k * N)**0.5)\n",
    "    y = torch.stack(torch.meshgrid(torch.linspace(0, 1, fine_grid_size,device=device),\n",
    "                                   torch.linspace(0, 1, fine_grid_size,device=device)), dim=-1).reshape(-1, 2)\n",
    "    y = y[:k * N]\n",
    "\n",
    "    # Compute weights b proportional to f(y)\n",
    "    b = f(y)\n",
    "    b /= b.sum()  # Normalize to make b a probability distribution\n",
    "\n",
    "    # Uniform weights for points x\n",
    "    a = torch.full((N,), 1 / N,device=device)\n",
    "\n",
    "    # Define the entropic OT loss function\n",
    "    loss_fn = SamplesLoss(\"sinkhorn\", p=2,scaling=scali, blur=epsilon**0.5)\n",
    "\n",
    "    # Iterative Lloyd's algorithm\n",
    "    for _ in range(Nsteps):\n",
    "        # Compute the transport map between x and (y, b)\n",
    "        loss = loss_fn(a,x,b, y)\n",
    "        grad = torch.autograd.grad(loss, x)[0]\n",
    "        x=x.clone().detach().requires_grad_(True)\n",
    "\n",
    "        # Move points in the direction of the gradient to minimize OT cost\n",
    "        with torch.no_grad():\n",
    "            x -= N * grad  # Adjust x by moving in gradient direction\n",
    "\n",
    "    return x.detach()  # Return points that fit the density function\n",
    "\n",
    "def init_gaussian(N, k=10, epsilon=0.001,Nsteps=3,scali=0.99,std=[0.2,0.2]):\n",
    "    def gaussian_density(points, mean=[0, 0], std=[0.1, 0.1]):\n",
    "        \"\"\"Evaluates a Gaussian function at given points.\"\"\"\n",
    "        dist = torch.distributions.MultivariateNormal(\n",
    "            torch.tensor(mean,device=device),\n",
    "            torch.diag(torch.tensor(std,device=device))**2\n",
    "        )\n",
    "        return torch.exp(dist.log_prob(points))\n",
    "    # Run Lloyd's algorithm\n",
    "    f = lambda y: gaussian_density(y, mean=[0.5, 0.5], std=[0.2, 0.2])  # Gaussian density function\n",
    "    points = Lloyds(f, N, k=k, Nsteps=Nsteps, epsilon=epsilon)\n",
    "    return points\n",
    "\n",
    "\n"
   ]
  },
  {
   "cell_type": "code",
   "execution_count": 145,
   "metadata": {
    "id": "uOXd3pmTLfvL"
   },
   "outputs": [],
   "source": [
    "# Parameters\n",
    "N = 20\n",
    "N1 = 20  # testing shapes\n",
    "M = 100\n",
    "epsilon = 0.01\n",
    "\n",
    "# Generate G\n",
    "# G = np.stack([j.flatten() for j in np.meshgrid(\n",
    "#     np.linspace(1/(2*N), 1 - 1/(2*N), N, endpoint=True),\n",
    "#     np.linspace(1/(2*N), 1 - 1/(2*N), N, endpoint=True))], axis=-1)\n",
    "G = init_gaussian(N*N,std=[0.3,0.3])\n",
    "G = torch.Tensor(G).requires_grad_(True)\n",
    "\n",
    "# Generate X in the desired format (N * N, 2)\n",
    "X = np.stack([j.flatten() for j in np.meshgrid(\n",
    "    np.linspace(1/(2*N1), 1 - 1/(2*N1), N, endpoint=True),\n",
    "    np.linspace(1/(2*N1), 1 - 1/(2*N1), N, endpoint=True))], axis=-1)\n",
    "\n",
    "X = torch.Tensor(X).requires_grad_(True).type_as\n",
    "# Generate Y in the desired format (M * M, 2)\n",
    "Y = np.stack([j.flatten() for j in np.meshgrid(\n",
    "    np.linspace(1/(2*M), 1 - 1/(2*M), M, endpoint=True),\n",
    "    np.linspace(1/(2*M), 1 - 1/(2*M), M, endpoint=True))], axis=-1)\n",
    "Y = torch.Tensor(Y).requires_grad_(True)\n"
   ]
  },
  {
   "cell_type": "code",
   "execution_count": 146,
   "metadata": {},
   "outputs": [],
   "source": [
    "N = 100\n",
    "M = 10*N \n",
    "\n",
    "debiase,scali,epsilon =False,0.99,0.001\n",
    "\n",
    "#initialisations\n",
    "grid_size = int(M ** 0.5)\n",
    "grid = torch.linspace(0,1, grid_size)\n",
    "y1, y2 = torch.meshgrid(grid, grid, indexing='ij')\n",
    "Y = torch.stack([y1.flatten(), y2.flatten()], dim=1)[:M]\n",
    "\n",
    "G = init_gaussian(N,std=[0.3,0.3])\n",
    "Y = Y.type_as(G)\n",
    "X = G.clone().requires_grad_(True)"
   ]
  },
  {
   "cell_type": "markdown",
   "metadata": {
    "id": "4kjhOcOITG0P"
   },
   "source": [
    "R here is the reference measuer, though everything so far is just uniformly weighted by the number of points"
   ]
  },
  {
   "cell_type": "code",
   "execution_count": 147,
   "metadata": {},
   "outputs": [],
   "source": [
    "loss = SamplesLoss('sinkhorn', p=2, blur=0.01)\n",
    "lr = 0.1\n",
    "sigma = 0.01\n"
   ]
  },
  {
   "cell_type": "code",
   "execution_count": 175,
   "metadata": {},
   "outputs": [
    {
     "data": {
      "image/png": "[encoded data removed]",
      "text/plain": [
       "<Figure size 576x432 with 1 Axes>"
      ]
     },
     "metadata": {
      "needs_background": "light"
     },
     "output_type": "display_data"
    }
   ],
   "source": [
    "# solve one W2 (G, X)\n",
    "L_gx = loss(G, X)\n",
    "[h_gx] = torch.autograd.grad(L_gx, [X])\n",
    "# solve W2 (X, Y)\n",
    "L_xy = loss(X, Y)\n",
    "[h_xy] = torch.autograd.grad(L_xy, [X])\n",
    "\n",
    "# update X\n",
    "update = h_gx + h_xy/sigma\n",
    "X = X - lr*N*update / (1 + 1/sigma)\n",
    "\n",
    "plt.figure(figsize=(8, 6))\n",
    "plt.scatter(G[:, 0].cpu(), G[:, 1].cpu(), color='blue', label='G_i', alpha=0.7)\n",
    "plt.scatter(Y[:, 0].cpu(), Y[:, 1].cpu(), color='green', s=10, label='Y_j', alpha=0.5)\n",
    "plt.scatter(X[:, 0].detach().cpu(), X[:, 1].detach().cpu(), color='red', marker='x', s=80)\n",
    "plt.legend()\n",
    "plt.xlabel('X-axis')\n",
    "plt.ylabel('Y-axis')\n",
    "plt.show()"
   ]
  },
  {
   "cell_type": "markdown",
   "metadata": {
    "id": "MWFS8bziRRh0"
   },
   "source": []
  },
  {
   "cell_type": "code",
   "execution_count": null,
   "metadata": {
    "id": "tNkbW7E6bYPq"
   },
   "outputs": [],
   "source": [
    "# Dyanmics"
   ]
  }
 ],
 "metadata": {
  "colab": {
   "include_colab_link": true,
   "provenance": []
  },
  "kernelspec": {
   "display_name": "venv",
   "language": "python",
   "name": "python3"
  },
  "language_info": {
   "codemirror_mode": {
    "name": "ipython",
    "version": 3
   },
   "file_extension": ".py",
   "mimetype": "text/x-python",
   "name": "python",
   "nbconvert_exporter": "python",
   "pygments_lexer": "ipython3",
   "version": "3.8.10"
  }
 },
 "nbformat": 4,
 "nbformat_minor": 0
}
