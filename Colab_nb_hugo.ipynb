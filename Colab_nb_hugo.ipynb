{
  "nbformat": 4,
  "nbformat_minor": 0,
  "metadata": {
    "colab": {
      "provenance": [],
      "gpuType": "T4",
      "include_colab_link": true
    },
    "kernelspec": {
      "name": "python3",
      "display_name": "Python 3"
    },
    "language_info": {
      "name": "python"
    },
    "accelerator": "GPU"
  },
  "cells": [
    {
      "cell_type": "markdown",
      "metadata": {
        "id": "view-in-github",
        "colab_type": "text"
      },
      "source": [
        "<a href=\"https://colab.research.google.com/github/Jacob-Francis/SWSG_repo/blob/main/Colab_nb_hugo.ipynb\" target=\"_parent\"><img src=\"https://colab.research.google.com/assets/colab-badge.svg\" alt=\"Open In Colab\"/></a>"
      ]
    },
    {
      "cell_type": "code",
      "execution_count": 1,
      "metadata": {
        "colab": {
          "base_uri": "https://localhost:8080/"
        },
        "id": "N_rbpuW0Gcr0",
        "outputId": "f5d39f05-f59d-4594-fd92-86a61891b470"
      },
      "outputs": [
        {
          "output_type": "stream",
          "name": "stdout",
          "text": [
            "Cloning into 'SWSG_repo'...\n",
            "remote: Enumerating objects: 13, done.\u001b[K\n",
            "remote: Counting objects: 100% (13/13), done.\u001b[K\n",
            "remote: Compressing objects: 100% (12/12), done.\u001b[K\n",
            "remote: Total 13 (delta 3), reused 2 (delta 0), pack-reused 0 (from 0)\u001b[K\n",
            "Receiving objects: 100% (13/13), done.\n",
            "Resolving deltas: 100% (3/3), done.\n"
          ]
        }
      ],
      "source": [
        "! git clone https://github.com/Jacob-Francis/SWSG_repo.git"
      ]
    },
    {
      "cell_type": "code",
      "source": [
        "%cd SWSG_repo/"
      ],
      "metadata": {
        "colab": {
          "base_uri": "https://localhost:8080/"
        },
        "id": "K5FZ49eHHW4v",
        "outputId": "70de9236-fd92-4ade-9ddd-39c665302cd0"
      },
      "execution_count": 2,
      "outputs": [
        {
          "output_type": "stream",
          "name": "stdout",
          "text": [
            "/content/SWSG_repo\n"
          ]
        }
      ]
    },
    {
      "cell_type": "code",
      "source": [
        "#!apt-get install cuda=10.2.89-1\n",
        "%matplotlib inline\n",
        "\n",
        "!pip install pykeops[colab] > install.log\n",
        "!pip install geomloss[full]\n",
        "!apt-get install ffmpeg\n",
        "\n",
        "import torch\n",
        "import numpy as np\n",
        "from geomloss import SamplesLoss\n",
        "import matplotlib.pyplot as plt\n",
        "import matplotlib.animation as animation\n",
        "from IPython.display import HTML\n",
        "\n",
        "# Device configuration\n",
        "#pytorch.cuda.alloc.conf = expandable_segments\n",
        "device = torch.device('cuda' if torch.cuda.is_available() else 'cpu')\n",
        "torch.set_default_dtype(torch.float64)\n",
        "torch.set_default_device(device)"
      ],
      "metadata": {
        "colab": {
          "base_uri": "https://localhost:8080/"
        },
        "id": "5XeQdTdKQSL1",
        "outputId": "13e71016-e4f2-44f8-8d2f-1ff29d26b3f0"
      },
      "execution_count": 16,
      "outputs": [
        {
          "output_type": "stream",
          "name": "stdout",
          "text": [
            "\u001b[33mWARNING: pykeops 2.2.3 does not provide the extra 'colab'\u001b[0m\u001b[33m\n",
            "\u001b[0mCollecting geomloss[full]\n",
            "  Downloading geomloss-0.2.6.tar.gz (26 kB)\n",
            "  Preparing metadata (setup.py) ... \u001b[?25l\u001b[?25hdone\n",
            "Requirement already satisfied: numpy in /usr/local/lib/python3.10/dist-packages (from geomloss[full]) (1.26.4)\n",
            "Requirement already satisfied: torch in /usr/local/lib/python3.10/dist-packages (from geomloss[full]) (2.5.0+cu121)\n",
            "Requirement already satisfied: pykeops in /usr/local/lib/python3.10/dist-packages (from geomloss[full]) (2.2.3)\n",
            "Requirement already satisfied: pybind11 in /usr/local/lib/python3.10/dist-packages (from pykeops->geomloss[full]) (2.13.6)\n",
            "Requirement already satisfied: keopscore==2.2.3 in /usr/local/lib/python3.10/dist-packages (from pykeops->geomloss[full]) (2.2.3)\n",
            "Requirement already satisfied: filelock in /usr/local/lib/python3.10/dist-packages (from torch->geomloss[full]) (3.16.1)\n",
            "Requirement already satisfied: typing-extensions>=4.8.0 in /usr/local/lib/python3.10/dist-packages (from torch->geomloss[full]) (4.12.2)\n",
            "Requirement already satisfied: networkx in /usr/local/lib/python3.10/dist-packages (from torch->geomloss[full]) (3.4.2)\n",
            "Requirement already satisfied: jinja2 in /usr/local/lib/python3.10/dist-packages (from torch->geomloss[full]) (3.1.4)\n",
            "Requirement already satisfied: fsspec in /usr/local/lib/python3.10/dist-packages (from torch->geomloss[full]) (2024.10.0)\n",
            "Requirement already satisfied: sympy==1.13.1 in /usr/local/lib/python3.10/dist-packages (from torch->geomloss[full]) (1.13.1)\n",
            "Requirement already satisfied: mpmath<1.4,>=1.1.0 in /usr/local/lib/python3.10/dist-packages (from sympy==1.13.1->torch->geomloss[full]) (1.3.0)\n",
            "Requirement already satisfied: MarkupSafe>=2.0 in /usr/local/lib/python3.10/dist-packages (from jinja2->torch->geomloss[full]) (3.0.2)\n",
            "Building wheels for collected packages: geomloss\n",
            "  Building wheel for geomloss (setup.py) ... \u001b[?25l\u001b[?25hdone\n",
            "  Created wheel for geomloss: filename=geomloss-0.2.6-py3-none-any.whl size=32246 sha256=0b5d963486aa6be8990feb15f40f8e0b47874a337a9b3c81e2b1b1133807309d\n",
            "  Stored in directory: /root/.cache/pip/wheels/0d/c9/80/4387eb03aa215ae557869d6fe8be498fd3d3cf297db2357b67\n",
            "Successfully built geomloss\n",
            "Installing collected packages: geomloss\n",
            "Successfully installed geomloss-0.2.6\n",
            "Reading package lists... Done\n",
            "Building dependency tree... Done\n",
            "Reading state information... Done\n",
            "ffmpeg is already the newest version (7:4.4.2-0ubuntu0.22.04.1).\n",
            "0 upgraded, 0 newly installed, 0 to remove and 49 not upgraded.\n",
            "[KeOps] Compiling cuda jit compiler engine ... OK\n",
            "[pyKeOps] Compiling nvrtc binder for python ... OK\n"
          ]
        }
      ]
    },
    {
      "cell_type": "code",
      "source": [
        "def Lloyds(f, N, k=10, Nsteps=3,scali=0.99, epsilon=0.001):\n",
        "\n",
        "    # Generate initial grid of points for x\n",
        "    grid_size = int(N**0.5)  # Assuming N is a perfect square\n",
        "    x = (torch.rand(N, 2,device=device) - 0.5).detach().requires_grad_(True) # Random points in [-1, 1]\n",
        "    # Generate fine grid of points y with k*N points\n",
        "    fine_grid_size = int((k * N)**0.5)\n",
        "    y = torch.stack(torch.meshgrid(torch.linspace(-0.5, 0.5, fine_grid_size,device=device),\n",
        "                                   torch.linspace(-0.5, 0.5, fine_grid_size,device=device)), dim=-1).reshape(-1, 2)\n",
        "    y = y[:k * N]\n",
        "\n",
        "    # Compute weights b proportional to f(y)\n",
        "    b = f(y)\n",
        "    b /= b.sum()  # Normalize to make b a probability distribution\n",
        "\n",
        "    # Uniform weights for points x\n",
        "    a = torch.full((N,), 1 / N,device=device)\n",
        "\n",
        "    # Define the entropic OT loss function\n",
        "    loss_fn = SamplesLoss(\"sinkhorn\", p=2,scaling=scali, blur=epsilon**0.5)\n",
        "\n",
        "    # Iterative Lloyd's algorithm\n",
        "    for _ in range(Nsteps):\n",
        "        # Compute the transport map between x and (y, b)\n",
        "        loss = loss_fn(a,x,b, y)\n",
        "        grad = torch.autograd.grad(loss, x)[0]\n",
        "        x=x.clone().detach().requires_grad_(True)\n",
        "\n",
        "        # Move points in the direction of the gradient to minimize OT cost\n",
        "        with torch.no_grad():\n",
        "            x -= N * grad  # Adjust x by moving in gradient direction\n",
        "\n",
        "    return x.detach()  # Return points that fit the density function\n",
        "\n",
        "def init_gaussian(N, k=10, epsilon=0.001,Nsteps=3,scali=0.99,std=[0.2,0.2]):\n",
        "    def gaussian_density(points, mean=[0, 0], std=[0.1, 0.1]):\n",
        "        \"\"\"Evaluates a Gaussian function at given points.\"\"\"\n",
        "        dist = torch.distributions.MultivariateNormal(\n",
        "            torch.tensor(mean,device=device),\n",
        "            torch.diag(torch.tensor(std,device=device))**2\n",
        "        )\n",
        "        return torch.exp(dist.log_prob(points))\n",
        "    # Run Lloyd's algorithm\n",
        "    f = lambda y: gaussian_density(y, mean=[0, 0], std=[0.2, 0.2])  # Gaussian density function\n",
        "    points = Lloyds(f, N, k=k, Nsteps=Nsteps, epsilon=epsilon)\n",
        "    return points"
      ],
      "metadata": {
        "id": "LWRrGnXKP6Pl"
      },
      "execution_count": 17,
      "outputs": []
    },
    {
      "cell_type": "code",
      "source": [
        "N = 50\n",
        "M = 10*N ; N,M = int(N**0.5)**2,int(M**0.5)**2\n",
        "debiase,scali,epsilon =False,0.99,0.001\n",
        "\n",
        "#initialisations\n",
        "grid_size = int(M ** 0.5)\n",
        "grid = torch.linspace(-.5,.5, grid_size)\n",
        "y1, y2 = torch.meshgrid(grid, grid, indexing='ij')\n",
        "Y = torch.stack([y1.flatten(), y2.flatten()], dim=1)[:M]\n",
        "\n",
        "G=init_gaussian(N,std=[0.3,0.3])\n"
      ],
      "metadata": {
        "colab": {
          "base_uri": "https://localhost:8080/"
        },
        "id": "-x_fgpETQN8R",
        "outputId": "6ffb3606-77ad-4454-bbd0-41d8edc6c3aa"
      },
      "execution_count": 18,
      "outputs": [
        {
          "output_type": "stream",
          "name": "stderr",
          "text": [
            "/usr/local/lib/python3.10/dist-packages/torch/functional.py:534: UserWarning: torch.meshgrid: in an upcoming release, it will be required to pass the indexing argument. (Triggered internally at ../aten/src/ATen/native/TensorShape.cpp:3595.)\n",
            "  return _VF.meshgrid(tensors, **kwargs)  # type: ignore[attr-defined]\n"
          ]
        }
      ]
    },
    {
      "cell_type": "code",
      "source": [
        "def sinkhorn_3marginals(G, Y, h_j, sigma, epsilon, num_iter=50, plot_every=5):\n",
        "    N, D = G.shape\n",
        "    M = Y.shape[0]\n",
        "    X = G.clone()\n",
        "    f_i, f_j, f_k = torch.zeros(N), torch.zeros(M), torch.zeros(N)\n",
        "    one_over_sigma = 1.0 / sigma\n",
        "    denom = 1 + one_over_sigma\n",
        "    X_history = [X.detach().cpu().numpy()]\n",
        "    f_k_history = [f_k.detach().cpu().numpy()]\n",
        "\n",
        "    for t in range(num_iter):\n",
        "        D_GX = torch.cdist(G, X)**2\n",
        "        D_XY = torch.cdist(X, Y)**2\n",
        "        C_total = D_GX[:, None, :] + one_over_sigma * D_XY.T[None, :, :]\n",
        "        exponent = (f_i[:, None, None] + f_j[None, :, None] + f_k[None, None, :] - C_total) / epsilon\n",
        "        max_exponent = exponent.max()\n",
        "        gamma = torch.exp(exponent - max_exponent)\n",
        "        gamma /= gamma.sum()\n",
        "\n",
        "        f_i = -epsilon * torch.logsumexp(exponent, dim=(1, 2))\n",
        "        f_j = -epsilon * torch.logsumexp(exponent, dim=(0, 2))\n",
        "        f_k = -epsilon * torch.logsumexp(exponent, dim=(0, 1))\n",
        "\n",
        "        Numerator_G = torch.einsum('imk,id->kd', gamma, G)\n",
        "        Numerator_Y = torch.einsum('imk,jd->kd', gamma, Y)\n",
        "        X = (Numerator_G + one_over_sigma * Numerator_Y) / denom\n",
        "\n",
        "        if t % plot_every == 0 or t == num_iter - 1:\n",
        "            X_history.append(X.detach().cpu().numpy())\n",
        "            f_k_history.append(f_k.detach().cpu().numpy())\n",
        "\n",
        "    return X, X_history, f_k_history\n"
      ],
      "metadata": {
        "id": "YaZKGzbEQ5kD"
      },
      "execution_count": 32,
      "outputs": []
    },
    {
      "cell_type": "code",
      "source": [
        "\n",
        "# Parameters\n",
        "sigma, epsilon, num_iter, plot_every = 1.0, 0.01, 5, 1\n",
        "\n",
        "# Generate data\n",
        "#G = torch.randn(N, D)\n",
        "h_j = torch.full((M,), 1.0 / M)\n",
        "\n",
        "# Run the algorithm\n",
        "X_updated, X_history,f_k_history = sinkhorn_3marginals(G, Y, h_j, sigma, epsilon, num_iter, plot_every)\n",
        "\n",
        "# Plotting the evolution of X_k\n",
        "G_np = G.cpu().numpy()\n",
        "Y_np = Y.cpu().numpy()\n",
        "\n",
        "for idx, X_k_np in enumerate(X_history):\n",
        "    iteration = idx * plot_every\n",
        "    plt.figure(figsize=(8, 6))\n",
        "    plt.scatter(G_np[:, 0], G_np[:, 1], color='blue', label='G_i', alpha=0.7)\n",
        "    plt.scatter(Y_np[:, 0], Y_np[:, 1], color='green', s=10, label='Y_j', alpha=0.5)\n",
        "    plt.scatter(X_k_np[:, 0], X_k_np[:, 1], color='red', label=f'X_k (Iter {iteration})', marker='x', s=80)\n",
        "    plt.legend()\n",
        "    plt.xlabel('X-axis')\n",
        "    plt.ylabel('Y-axis')\n",
        "    plt.title(f'Iteration {iteration}')\n",
        "    plt.show()\n",
        "\n",
        "for idx, f_k_np in enumerate(f_k_history):\n",
        "    iteration = idx * plot_every\n",
        "    plt.figure(figsize=(8, 6))\n",
        "    plt.plot(f_k_np, label=f'f_k (Iter {iteration})')\n",
        "    plt.legend()\n",
        "    plt.xlabel('Iteration')\n",
        "    plt.ylabel('f_k')\n"
      ],
      "metadata": {
        "id": "_LEzxmniPWol"
      },
      "execution_count": null,
      "outputs": []
    }
  ]
}